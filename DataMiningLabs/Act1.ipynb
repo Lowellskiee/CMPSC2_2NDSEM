{
 "cells": [
  {
   "cell_type": "code",
   "execution_count": null,
   "metadata": {},
   "outputs": [],
   "source": [
    "# CS172 Laboratory Activity 1\n",
    ">This laboratory exercise shall serve as a review of your knowledge of basic Python programming.  Create a python code that will solve the problem.\n",
    "\n",
    "## Problem\n",
    "> Alejandro bought 5 lots with a market value of Php 500,000.00 last 2021.  The market value of the 5 lots is expected to increase by 30% every year.  Compute and display the estimated market value of the property for the year 2023.  Document the parts of your code using the text cell/section.  \n",
    "\n",
    "## Rubric\n",
    "| Criteria                     | Poor | Fair  | Good  | Very Good  |\n",
    "|------------------------------|------|------|------|-----------|\n",
    "|  1.  **Correctness of the Output**   | No Submission. *(0 Point)*| Less than 50% of the target output was met. *(1 Point)* | At least 50% of the target output was met. *(2 Points)* | All of the target output was met. *(3 Points)* |\n",
    "| 2.  **Correctness of the Algorithm** | No Submission *(0 Point)* | The applied algorithm needs major revision. *(1 Point)* | The applied algorithm needs minor revision. *(3 Points)* | The applied algorithm is correctly implemented. *(6 Points)* |\n",
    "| 3.  **Documentation** | No Submission. *(0 Point)* | Less than 50% of the code is documented. *(1 Point)* | 70% of the code is documented. *(2 Points)* | 100% of the code is documented. *(3 Points)*\n"
   ]
  },
  {
   "cell_type": "code",
   "execution_count": 2,
   "metadata": {},
   "outputs": [],
   "source": [
    "present_value = 500000 #present value of the 5 lots of the year 2021\n",
    "growth_rate = 0.3 # increase every year\n",
    "years = 2 # number of years from 2021-2023"
   ]
  },
  {
   "cell_type": "code",
   "execution_count": 3,
   "metadata": {},
   "outputs": [
    {
     "data": {
      "text/plain": [
       "1.6900000000000002"
      ]
     },
     "execution_count": 3,
     "metadata": {},
     "output_type": "execute_result"
    }
   ],
   "source": [
    "int_value = (1 + growth_rate) ** years # inital value 1 * 30% ^ 2\n",
    "int_value"
   ]
  },
  {
   "cell_type": "code",
   "execution_count": 4,
   "metadata": {},
   "outputs": [
    {
     "data": {
      "text/plain": [
       "845000.0000000001"
      ]
     },
     "execution_count": 4,
     "metadata": {},
     "output_type": "execute_result"
    }
   ],
   "source": [
    "future_value = present_value * int_value # value of the 5 lots of the year 2023\n",
    "future_value"
   ]
  }
 ],
 "metadata": {
  "kernelspec": {
   "display_name": "Python 3",
   "language": "python",
   "name": "python3"
  },
  "language_info": {
   "codemirror_mode": {
    "name": "ipython",
    "version": 3
   },
   "file_extension": ".py",
   "mimetype": "text/x-python",
   "name": "python",
   "nbconvert_exporter": "python",
   "pygments_lexer": "ipython3",
   "version": "3.12.5"
  }
 },
 "nbformat": 4,
 "nbformat_minor": 2
}
