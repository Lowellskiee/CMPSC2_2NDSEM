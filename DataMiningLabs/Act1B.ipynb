{
 "cells": [
  {
   "cell_type": "code",
   "execution_count": 4,
   "metadata": {},
   "outputs": [],
   "source": [
    "def check(a):\n",
    "    a = a.lower().replace(\" \", \" \") # converts the word to lowercase and remove spaces\n",
    "    \n",
    "    char_counter = {} # initialize a directory to store the character counts\n",
    "\n",
    "    # a for loop through each character in a string\n",
    "    for char in a:\n",
    "        if char in char_counter:\n",
    "            char_counter[char] += 1\n",
    "        else:\n",
    "            char_counter[char] = 1\n",
    "\n",
    "    # it checks if the word is a Palindrome\n",
    "    is_palindrome = a == a[::-1] \n",
    "\n",
    "    # this checks if each letter in the word appear twice\n",
    "    is_2ndOrderIsogram = all(count == 2 for count in char_counter.values())\n",
    "\n",
    "    # this checks if each letter in the word appear once\n",
    "    is_Heterogram = all(count == 1 for count in char_counter.values())\n",
    "\n",
    "    # this check if each letter in the word is said to be a 2nd Order Isogram and a Palindrome\n",
    "    is_Palindrome_Isogram = all(count == 2 for count in char_counter.values()) and a == a[::-1] \n",
    "\n",
    "\n",
    "    # it prints whether the inputted word is a palindrome, 2nd Order Isogram, a Heterogram, or a combination of Palindrome and a 2nd Order Isogram\n",
    "    if is_Palindrome_Isogram:\n",
    "        print(\"The word is a Palindrome and a 2nd Order Isogram\")\n",
    "    elif is_palindrome:\n",
    "        print(\"The word is a Palindrome\")\n",
    "    elif is_2ndOrderIsogram:\n",
    "        print(\"The word is a 2nd Order Isogram\")\n",
    "    elif is_Heterogram:\n",
    "        print(\"The word is a Heterogram\")\n",
    "    else:\n",
    "        print(\"A ordinary word\")"
   ]
  },
  {
   "cell_type": "code",
   "execution_count": 5,
   "metadata": {},
   "outputs": [
    {
     "name": "stdout",
     "output_type": "stream",
     "text": [
      "A ordinary word\n",
      "None\n"
     ]
    }
   ],
   "source": [
    "word = input(\"Enter the word: \")\n",
    "result = check(word)\n",
    "print(result)"
   ]
  }
 ],
 "metadata": {
  "kernelspec": {
   "display_name": "Python 3",
   "language": "python",
   "name": "python3"
  },
  "language_info": {
   "codemirror_mode": {
    "name": "ipython",
    "version": 3
   },
   "file_extension": ".py",
   "mimetype": "text/x-python",
   "name": "python",
   "nbconvert_exporter": "python",
   "pygments_lexer": "ipython3",
   "version": "3.12.5"
  }
 },
 "nbformat": 4,
 "nbformat_minor": 2
}
