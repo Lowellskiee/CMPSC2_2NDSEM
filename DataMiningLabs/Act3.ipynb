{
 "cells": [
  {
   "cell_type": "code",
   "execution_count": null,
   "metadata": {},
   "outputs": [],
   "source": [
    "# Activity 3 - Find the Criminal\n",
    "\n",
    "This activity will test your understanding of using python dictionaries and other basic data structures of the programming language. \n",
    "Run the next cell and be sure that you do not edit the cell/section contents."
   ]
  },
  {
   "cell_type": "code",
   "execution_count": 1,
   "metadata": {},
   "outputs": [],
   "source": [
    "# do not change this cell/section\n",
    "import random\n",
    "import hashlib\n",
    "\n",
    "random.seed(10)\n",
    "\n",
    "def hash(text):\n",
    "    return hashlib.md5(text.encode()).hexdigest()\n",
    "\n",
    "username = ['Henry', 'Rose', 'Jhane', 'Bob', 'Jose', 'Mary', 'Karl', 'Mercy', 'June', 'Herdy']\n",
    "password = ['password1', 'itsahit', 'slash101', 'reverse', 'greenlantern', 'jeep', 'hook',\\\n",
    "           'marker', 'cookies', 'bottle']\n",
    "\n",
    "dataset = dict(zip(username, password))\n"
   ]
  },
  {
   "cell_type": "code",
   "execution_count": null,
   "metadata": {},
   "outputs": [],
   "source": [
    "Imagine that you are one of the system administrators of a bank and you received a report that an anonymous user was able to transfer about \n",
    "`Php10,000,000.00` to an external account.  As the main system officer of the bank, you were able to dump the last 10 users with their `username` \n",
    "and `password` from your database(`dataset`) who performed a transaction from your system. The security officer of the bank was able to recover the \n",
    "signature/hash of the criminal from the system logs.  The hash is given in the following code: `0ea32a4dcab9c7efbe6f5eca3b9b8417`."
   ]
  },
  {
   "cell_type": "code",
   "execution_count": 3,
   "metadata": {},
   "outputs": [
    {
     "data": {
      "text/plain": [
       "{'Henry': 'password1',\n",
       " 'Rose': 'itsahit',\n",
       " 'Jhane': 'slash101',\n",
       " 'Bob': 'reverse',\n",
       " 'Jose': 'greenlantern',\n",
       " 'Mary': 'jeep',\n",
       " 'Karl': 'hook',\n",
       " 'Mercy': 'marker',\n",
       " 'June': 'cookies',\n",
       " 'Herdy': 'bottle'}"
      ]
     },
     "execution_count": 3,
     "metadata": {},
     "output_type": "execute_result"
    }
   ],
   "source": [
    "dataset"
   ]
  },
  {
   "cell_type": "code",
   "execution_count": null,
   "metadata": {},
   "outputs": [],
   "source": [
    "Your goal here is to find the criminal from the `dataset`.\n",
    "Your script must be able to display the name of the suspect in the dataset.  Use the `hash(<val>)` function to compute the hash. \n",
    "\n",
    "## Rubric\n",
    "| Criteria                     | Poor | Fair  | Good  | Very Good  |\n",
    "|------------------------------|------|------|------|-----------|\n",
    "|  1.  **Correctness of the Output**   | No Submission. *(0 Point)*| Less than 50% of the target output was met. *(1 Point)* | At least 50% of the target output was met. *(2 Points)* | All of the target output was met. *(3 Points)* |\n",
    "| 2.  **Correctness of the Algorithm** | No Submission *(0 Point)* | The applied algorithm needs major revision. *(1 Point)* | The applied algorithm needs minor revision. *(3 Points)* | The applied algorithm is correctly implemented. *(6 Points)* |\n",
    "| 3.  **Documentation** | No Submission. *(0 Point)* | Less than 50% of the code is documented. *(1 Point)* | 70% of the code is documented. *(2 Points)* | 100% of the code is documented. *(3 Points)*\n",
    "\n",
    "Do not edit modify the next section/cell as this will start the simulation process.  This cell/section shall generate 100,000 observations for your data analysis."
   ]
  },
  {
   "cell_type": "code",
   "execution_count": 4,
   "metadata": {},
   "outputs": [
    {
     "name": "stdout",
     "output_type": "stream",
     "text": [
      "The Criminal who transfer about `Php10,000,000.00` to an external account is Jose\n"
     ]
    }
   ],
   "source": [
    "# Start your code here...\n",
    "criminal = '0ea32a4dcab9c7efbe6f5eca3b9b8417' # stores the signature of the criminal\n",
    "\n",
    "for username, password in dataset.items(): # loop to hash every password in the dataset\n",
    "    hash_value = hash(password)\n",
    "    \n",
    "    if hash_value == criminal: # if sttmnt to check the hash password match with the signature of the criminal\n",
    "        print(f\"The Criminal who transfer about `Php10,000,000.00` to an external account is {username}\")"
   ]
  }
 ],
 "metadata": {
  "kernelspec": {
   "display_name": "Python 3",
   "language": "python",
   "name": "python3"
  },
  "language_info": {
   "codemirror_mode": {
    "name": "ipython",
    "version": 3
   },
   "file_extension": ".py",
   "mimetype": "text/x-python",
   "name": "python",
   "nbconvert_exporter": "python",
   "pygments_lexer": "ipython3",
   "version": "3.12.5"
  }
 },
 "nbformat": 4,
 "nbformat_minor": 2
}
