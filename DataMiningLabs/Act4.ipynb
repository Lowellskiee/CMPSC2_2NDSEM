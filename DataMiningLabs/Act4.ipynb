{
 "cells": [
  {
   "cell_type": "code",
   "execution_count": null,
   "metadata": {},
   "outputs": [],
   "source": [
    "# Activity 4 - Summary Statistics"
   ]
  },
  {
   "cell_type": "code",
   "execution_count": 1,
   "metadata": {},
   "outputs": [
    {
     "name": "stderr",
     "output_type": "stream",
     "text": [
      "C:\\Users\\cabie\\AppData\\Local\\Temp\\ipykernel_1904\\1657893589.py:10: MatplotlibDeprecationWarning: The 'labels' parameter of boxplot() has been renamed 'tick_labels' since Matplotlib 3.9; support for the old name will be dropped in 3.11.\n",
      "  plt.boxplot([barangayA, barangayB, barangayC], labels=['Barangay A', 'Barangay B', 'Barangay C']);\n"
     ]
    },
    {
     "data": {
      "image/png": "[encoded data removed]",
      "text/plain": [
       "<Figure size 640x480 with 1 Axes>"
      ]
     },
     "metadata": {},
     "output_type": "display_data"
    }
   ],
   "source": [
    "# Do not change this cell or section\n",
    "\n",
    "import matplotlib.pyplot as plt\n",
    "import numpy as np\n",
    "\n",
    "barangayA = [100, 150, 110, 115, 106, 170, 121, 101, 108, 102, 100, 150]\n",
    "barangayB = [150, 90, 190, 200, 260, 290, 310, 200, 80, 215, 220, 300]\n",
    "barangayC = [250, 200, 100, 150, 300, 290, 250, 240, 260, 300, 251, 210]\n",
    "\n",
    "plt.boxplot([barangayA, barangayB, barangayC], labels=['Barangay A', 'Barangay B', 'Barangay C']);\n",
    "plt.ylabel('Monthly Power Consumption (Kilowatts)');"
   ]
  },
  {
   "cell_type": "code",
   "execution_count": null,
   "metadata": {},
   "outputs": [],
   "source": [
    "Assume that you were selected as a judge in a municipality contest: **Search for the Greenest Barangay in Town**,\n",
    "where you will select the *eco-friendly* barangay based on their annual electric consumption.  \n",
    "The organizers wanted you to select the winner from the participants.  \n",
    "The organizers provided you with a list of the monthly power consumption history *(in kilowatts)* of the participants\n",
    " *(presented in the above figure)*.  The winner is the barangay with the least monthly electric consumption in the previous year. \n",
    " Determine the winner using the **five-number summary** that you learned in class."
   ]
  },
  {
   "cell_type": "code",
   "execution_count": null,
   "metadata": {},
   "outputs": [],
   "source": [
    "Your goal here is to find the winner from the dataset. \n",
    "Your script must be able to display the name of the **winner-barangay** in the dataset.  \n",
    "Include in your documentation the course of facts that you learned from the data that has helped you decide on the winner.  \n",
    "Your documentation should answer the question: **Why did you select the barangay?**\n",
    "\n",
    "Submit the link to your notebooks and be sure that I can access your submissions.\n",
    "\n",
    "## Rubric\n",
    "| Criteria                     | Poor | Fair  | Good  | Very Good  |\n",
    "|------------------------------|------|------|------|-----------|\n",
    "|  1.  **Correctness of the Output**   | No Submission. *(0 Point)*| Less than 50% of the target output was met. *(1 Point)* | At least 50% of the target output was met. *(2 Points)* | All of the target output was met. *(3 Points)* |\n",
    "| 2.  **Correctness of the Algorithm** | No Submission *(0 Point)* | The applied algorithm needs major revision. *(1 Point)* | The applied algorithm needs minor revision. *(3 Points)* | The applied algorithm is correctly implemented. *(6 Points)* |\n",
    "| 3.  **Documentation** | No Submission. *(0 Point)* | Less than 50% of the code is documented. *(1 Point)* | 70% of the code is documented. *(2 Points)* | 100% of the code is documented. *(3 Points)*\n",
    "\n"
   ]
  },
  {
   "cell_type": "code",
   "execution_count": 2,
   "metadata": {},
   "outputs": [],
   "source": [
    "# a function to calculate the five number summary of a data set, which includes the Q1, median, and Q3\n",
    "def calculate_quartiles(data):\n",
    "\n",
    "    # this stores the data set in a sorted manner\n",
    "    data_sorted = np.sort(data) \n",
    "\n",
    "    # five number summary (min & max are not included)\n",
    "    Q1 = np.percentile(data_sorted, 25)  # 1st quartile\n",
    "    median = np.percentile(data_sorted, 50)  # 2nd quartile (median)\n",
    "    Q3 = np.percentile(data_sorted, 75)  # 3rd quartile\n",
    "    return {\n",
    "        'Q1': Q1,\n",
    "        'Median': median,\n",
    "        'Q3': Q3\n",
    "    }\n",
    "B1 = calculate_quartiles(barangayA)\n",
    "B2 = calculate_quartiles(barangayB)\n",
    "B3 = calculate_quartiles(barangayC)"
   ]
  },
  {
   "cell_type": "code",
   "execution_count": 3,
   "metadata": {},
   "outputs": [
    {
     "name": "stdout",
     "output_type": "stream",
     "text": [
      "The Greenest Barangay in Town is Barangay A!\n"
     ]
    }
   ],
   "source": [
    "# a dictionary named medians to store the barangay and their median values from the calculated quartile fn\n",
    "medians = {'Barangay A': float(B1['Median']), 'Barangay B': float(B2['Median']), 'Barangay C': float(B3['Median']),}\n",
    "\n",
    "# it gets the lowest median value in the medians list\n",
    "lowest_value = min(medians)\n",
    "print(f\"The Greenest Barangay in Town is {lowest_value}!\")"
   ]
  },
  {
   "cell_type": "code",
   "execution_count": null,
   "metadata": {},
   "outputs": [],
   "source": [
    "# Baranggay A is declared as the greenest barangay in town because it has the lowest median value among the three barangays.\n",
    "# The median value of Barangay A is 108.0, Barangay B is 215.0, and Barangay C is 250.0."
   ]
  }
 ],
 "metadata": {
  "kernelspec": {
   "display_name": "Python 3",
   "language": "python",
   "name": "python3"
  },
  "language_info": {
   "codemirror_mode": {
    "name": "ipython",
    "version": 3
   },
   "file_extension": ".py",
   "mimetype": "text/x-python",
   "name": "python",
   "nbconvert_exporter": "python",
   "pygments_lexer": "ipython3",
   "version": "3.12.5"
  }
 },
 "nbformat": 4,
 "nbformat_minor": 2
}
